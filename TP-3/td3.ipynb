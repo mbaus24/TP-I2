{
 "cells": [
  {
   "cell_type": "code",
   "execution_count": 1,
   "metadata": {},
   "outputs": [],
   "source": [
    "from pony import orm\n",
    "db = orm.Database()\n",
    "import numpy as np\n",
    "import pandas\n",
    "with open('ventes_new.csv', encoding='utf-8') as f:\n",
    "    data = pandas.read_csv(f)\n",
    "print(data)"
   ]
  },
  {
   "cell_type": "code",
   "execution_count": 2,
   "metadata": {},
   "outputs": [],
   "source": [
    "class Client(db.Entity):\n",
    "    id_client = orm.PrimaryKey(str)\n",
    "    telephone = orm.Required(str)\n",
    "    ville = orm.Required(str)\n",
    "    pays = orm.Required(str)\n",
    "    achats = orm.Set('Commande')\n",
    "class Produit(db.Entity):\n",
    "    code_produit = orm.PrimaryKey(str)\n",
    "    type_produit = orm.Required(str)\n",
    "    prix_unitaire = orm.Required(float)\n",
    "    ventes = orm.Set('Commande')\n",
    "    \n",
    "class Commande(db.Entity):\n",
    "    num_commande = orm.Required(int)\n",
    "    code_produit = orm.Required(str)\n",
    "    orm.PrimaryKey(num_commande, code_produit)\n",
    "    quantité = orm.Required(int)\n",
    "    montant = orm.Required(float)\n",
    "    mois = orm.Required(int)\n",
    "    année = orm.Required(int)\n",
    "    client = orm.Required(Client)\n",
    "    produit = orm.Required(Produit)"
   ]
  },
  {
   "cell_type": "code",
   "execution_count": null,
   "metadata": {},
   "outputs": [],
   "source": [
    "orm.show(Client)\n"
   ]
  }
 ],
 "metadata": {
  "kernelspec": {
   "display_name": "Python 3",
   "language": "python",
   "name": "python3"
  },
  "language_info": {
   "codemirror_mode": {
    "name": "ipython",
    "version": 3
   },
   "file_extension": ".py",
   "mimetype": "text/x-python",
   "name": "python",
   "nbconvert_exporter": "python",
   "pygments_lexer": "ipython3",
   "version": "3.9.5"
  }
 },
 "nbformat": 4,
 "nbformat_minor": 2
}
